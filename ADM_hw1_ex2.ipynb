{
 "cells": [
  {
   "cell_type": "code",
   "execution_count": null,
   "metadata": {},
   "outputs": [],
   "source": [
    "#Birthday Cake Candles\n",
    "def birthdayCakeCandles(candles):\n",
    "    from collections import Counter\n",
    "    count = Counter(candles)\n",
    "    return max(count.values())"
   ]
  },
  {
   "cell_type": "code",
   "execution_count": null,
   "metadata": {},
   "outputs": [],
   "source": [
    "#Number Line Jumps\n",
    "def kangaroo(x1, v1, x2, v2):\n",
    "    if x2 > x1:\n",
    "        if v2 >= v1:\n",
    "            return 'NO'\n",
    "        elif (x2 - x1)%(v1 - v2) == 0 :\n",
    "            return 'YES'\n",
    "        else:\n",
    "            return 'NO'\n",
    "    else:\n",
    "        return kangaroo(x2, v2, x1, v1)"
   ]
  },
  {
   "cell_type": "code",
   "execution_count": null,
   "metadata": {},
   "outputs": [],
   "source": [
    "#Viral Advertising\n",
    "\n",
    "def viralAdvertising(n):\n",
    "\n",
    "    def shared(n):\n",
    "        if n == 1:\n",
    "            return 5\n",
    "        else:\n",
    "            return (shared(n-1)//2)*3\n",
    "    \n",
    "    if n==1: \n",
    "        return 2\n",
    "    else: \n",
    "        return sum([shared(m)//2 for m in range(1, n+1)])\n"
   ]
  },
  {
   "cell_type": "code",
   "execution_count": null,
   "metadata": {},
   "outputs": [],
   "source": [
    "#Recursive Digit Sum\n",
    "def superDigit(n, k):\n",
    "    if len(n)==1:\n",
    "        return int(n)\n",
    "    else:\n",
    "        return superDigit( str( sum(int(digit) for digit in n) *k ), 1)"
   ]
  },
  {
   "cell_type": "code",
   "execution_count": null,
   "metadata": {},
   "outputs": [],
   "source": [
    "#Insertion Sort - Part 1\n",
    "def insertionSort1(n, arr):\n",
    "    e = arr[-1]   #element to be sorted\n",
    "    k = n-2\n",
    "\n",
    "    while arr[k] > e and k >= 0:\n",
    "        appoggio = arr[k]\n",
    "        arr[k+1]= appoggio\n",
    "\n",
    "        print(' '.join(map(str, arr)))\n",
    "        k = k-1\n",
    "    arr[k+1]=e\n",
    "    print(' '.join(map(str, arr)))"
   ]
  },
  {
   "cell_type": "code",
   "execution_count": null,
   "metadata": {},
   "outputs": [],
   "source": [
    "#Insertion Sort - Part 2\n",
    "def insertionSort2(n, arr):\n",
    "    for k in range(1, n):\n",
    "        e = arr[k]\n",
    "        m = k-1\n",
    "\n",
    "        while arr[m] > e and m>=0:\n",
    "            m -= 1\n",
    "        \n",
    "        arr.insert(m+1, e)\n",
    "        arr = arr[:k+1]+arr[k+2:]\n",
    "        \n",
    "        print(' '.join(map(str, arr)))\n",
    "        \n",
    "        "
   ]
  }
 ],
 "metadata": {
  "kernelspec": {
   "display_name": "base",
   "language": "python",
   "name": "python3"
  },
  "language_info": {
   "codemirror_mode": {
    "name": "ipython",
    "version": 3
   },
   "file_extension": ".py",
   "mimetype": "text/x-python",
   "name": "python",
   "nbconvert_exporter": "python",
   "pygments_lexer": "ipython3",
   "version": "3.11.4"
  }
 },
 "nbformat": 4,
 "nbformat_minor": 2
}
